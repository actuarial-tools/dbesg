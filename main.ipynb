{
 "cells": [
  {
   "cell_type": "code",
   "execution_count": 1,
   "metadata": {},
   "outputs": [],
   "source": [
    "import numpy as np\n",
    "from dbesg import SmithWilson, NelsonSiegel"
   ]
  },
  {
   "cell_type": "code",
   "execution_count": 2,
   "metadata": {},
   "outputs": [
    {
     "output_type": "execute_result",
     "data": {
      "text/plain": [
       "dbesg.yieldcurve.SmithWilson"
      ]
     },
     "metadata": {},
     "execution_count": 2
    }
   ],
   "source": [
    "SmithWilson"
   ]
  },
  {
   "cell_type": "code",
   "execution_count": 21,
   "metadata": {},
   "outputs": [
    {
     "output_type": "execute_result",
     "data": {
      "text/plain": [
       "Index(['일자', '국고채권\\n(1년)', '국고채권\\n(3년)', '국고채권\\n(5년)', '국고채권\\n(10년)',\n",
       "       '국고채권\\n(20년)', '국고채권\\n(30년)'],\n",
       "      dtype='object')"
      ]
     },
     "metadata": {},
     "execution_count": 21
    }
   ],
   "source": [
    "df.columns"
   ]
  },
  {
   "cell_type": "code",
   "execution_count": 65,
   "metadata": {},
   "outputs": [
    {
     "output_type": "execute_result",
     "data": {
      "text/plain": [
       "0            일자      1      3      5     10     20     30\n",
       "0    2020-12-31  0.741  0.976  1.335  1.713  1.824  1.823\n",
       "1    2020-12-30  0.741  0.978  1.335  1.713  1.825  1.823\n",
       "2    2020-12-29  0.736  0.973  1.327  1.698  1.810  1.808\n",
       "3    2020-12-28  0.728  0.958  1.316  1.681  1.803  1.803\n",
       "4    2020-12-24  0.722  0.950  1.314  1.682  1.801  1.802\n",
       "...         ...    ...    ...    ...    ...    ...    ...\n",
       "1228 2016-01-07  1.598  1.639  1.780  2.015  2.134  2.180\n",
       "1229 2016-01-06  1.601  1.639  1.788  2.035  2.149  2.195\n",
       "1230 2016-01-05  1.602  1.643  1.792  2.057  2.163  2.210\n",
       "1231 2016-01-04  1.605  1.634  1.778  2.039  2.137  2.191\n",
       "1232 2015-12-31  1.629  1.662  1.814  2.076  2.158  2.207\n",
       "\n",
       "[1233 rows x 7 columns]"
      ],
      "text/html": "<div>\n<style scoped>\n    .dataframe tbody tr th:only-of-type {\n        vertical-align: middle;\n    }\n\n    .dataframe tbody tr th {\n        vertical-align: top;\n    }\n\n    .dataframe thead th {\n        text-align: right;\n    }\n</style>\n<table border=\"1\" class=\"dataframe\">\n  <thead>\n    <tr style=\"text-align: right;\">\n      <th></th>\n      <th>일자</th>\n      <th>1</th>\n      <th>3</th>\n      <th>5</th>\n      <th>10</th>\n      <th>20</th>\n      <th>30</th>\n    </tr>\n  </thead>\n  <tbody>\n    <tr>\n      <th>0</th>\n      <td>2020-12-31</td>\n      <td>0.741</td>\n      <td>0.976</td>\n      <td>1.335</td>\n      <td>1.713</td>\n      <td>1.824</td>\n      <td>1.823</td>\n    </tr>\n    <tr>\n      <th>1</th>\n      <td>2020-12-30</td>\n      <td>0.741</td>\n      <td>0.978</td>\n      <td>1.335</td>\n      <td>1.713</td>\n      <td>1.825</td>\n      <td>1.823</td>\n    </tr>\n    <tr>\n      <th>2</th>\n      <td>2020-12-29</td>\n      <td>0.736</td>\n      <td>0.973</td>\n      <td>1.327</td>\n      <td>1.698</td>\n      <td>1.810</td>\n      <td>1.808</td>\n    </tr>\n    <tr>\n      <th>3</th>\n      <td>2020-12-28</td>\n      <td>0.728</td>\n      <td>0.958</td>\n      <td>1.316</td>\n      <td>1.681</td>\n      <td>1.803</td>\n      <td>1.803</td>\n    </tr>\n    <tr>\n      <th>4</th>\n      <td>2020-12-24</td>\n      <td>0.722</td>\n      <td>0.950</td>\n      <td>1.314</td>\n      <td>1.682</td>\n      <td>1.801</td>\n      <td>1.802</td>\n    </tr>\n    <tr>\n      <th>...</th>\n      <td>...</td>\n      <td>...</td>\n      <td>...</td>\n      <td>...</td>\n      <td>...</td>\n      <td>...</td>\n      <td>...</td>\n    </tr>\n    <tr>\n      <th>1228</th>\n      <td>2016-01-07</td>\n      <td>1.598</td>\n      <td>1.639</td>\n      <td>1.780</td>\n      <td>2.015</td>\n      <td>2.134</td>\n      <td>2.180</td>\n    </tr>\n    <tr>\n      <th>1229</th>\n      <td>2016-01-06</td>\n      <td>1.601</td>\n      <td>1.639</td>\n      <td>1.788</td>\n      <td>2.035</td>\n      <td>2.149</td>\n      <td>2.195</td>\n    </tr>\n    <tr>\n      <th>1230</th>\n      <td>2016-01-05</td>\n      <td>1.602</td>\n      <td>1.643</td>\n      <td>1.792</td>\n      <td>2.057</td>\n      <td>2.163</td>\n      <td>2.210</td>\n    </tr>\n    <tr>\n      <th>1231</th>\n      <td>2016-01-04</td>\n      <td>1.605</td>\n      <td>1.634</td>\n      <td>1.778</td>\n      <td>2.039</td>\n      <td>2.137</td>\n      <td>2.191</td>\n    </tr>\n    <tr>\n      <th>1232</th>\n      <td>2015-12-31</td>\n      <td>1.629</td>\n      <td>1.662</td>\n      <td>1.814</td>\n      <td>2.076</td>\n      <td>2.158</td>\n      <td>2.207</td>\n    </tr>\n  </tbody>\n</table>\n<p>1233 rows × 7 columns</p>\n</div>"
     },
     "metadata": {},
     "execution_count": 65
    }
   ],
   "source": [
    "import pandas as pd\n",
    "\n",
    "df = pd.read_excel('result/risk_free_interest_rate_20210103123854.xlsx')\n",
    "df = df.set_index('일자')\n",
    "df.columns = df.columns.str.extract(r'(\\d+)년')[0]\n",
    "df = df.drop(['최고', '최저'], axis=0)\n",
    "df = df.reset_index()\n",
    "df['일자'] = df['일자'].astype('datetime64[ns]')\n",
    "df\n"
   ]
  },
  {
   "cell_type": "code",
   "execution_count": 10,
   "metadata": {},
   "outputs": [],
   "source": [
    "maturity = np.array([1, 3, 5, 10, 20, 30])\n",
    "rate = np.array([0.01301, 0.01325, 0.01415, 0.01600, 0.01625, 0.01604])\n",
    "alpha, ufr = 0.1, 0.052\n",
    "sw = SmithWilson(alpha, ufr)\n",
    "sw.set_params(maturity, rate)\n",
    "t = np.linspace(0, 100, 1201)\n",
    "spot = sw.spot_rate(t)\n",
    "forward = sw.forward_rate(t, 1)"
   ]
  }
 ],
 "metadata": {
  "language_info": {
   "codemirror_mode": {
    "name": "ipython",
    "version": 3
   },
   "file_extension": ".py",
   "mimetype": "text/x-python",
   "name": "python",
   "nbconvert_exporter": "python",
   "pygments_lexer": "ipython3",
   "version": "3.8.5-final"
  },
  "orig_nbformat": 2,
  "kernelspec": {
   "name": "python3",
   "display_name": "Python 3",
   "language": "python"
  }
 },
 "nbformat": 4,
 "nbformat_minor": 2
}