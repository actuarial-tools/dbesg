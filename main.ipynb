{
 "cells": [
  {
   "cell_type": "code",
   "execution_count": 11,
   "metadata": {},
   "outputs": [],
   "source": [
    "import numpy as np\n",
    "from dbesg import SmithWilson, NelsonSiegel"
   ]
  },
  {
   "cell_type": "code",
   "execution_count": 9,
   "metadata": {},
   "outputs": [
    {
     "output_type": "execute_result",
     "data": {
      "text/plain": [
       "array([0.01301   , 0.01304585, 0.01307034, ..., 0.05198154, 0.0519817 ,\n",
       "       0.05198185])"
      ]
     },
     "metadata": {},
     "execution_count": 9
    }
   ],
   "source": [
    "SmithWilson"
   ]
  },
  {
   "cell_type": "code",
   "execution_count": 10,
   "metadata": {},
   "outputs": [],
   "source": [
    "maturity = np.array([1, 3, 5, 10, 20, 30])\n",
    "rate = np.array([0.01301, 0.01325, 0.01415, 0.01600, 0.01625, 0.01604])\n",
    "alpha, ufr = 0.1, 0.052\n",
    "sw = SmithWilson(alpha, ufr)\n",
    "sw.set_params(maturity, rate)\n",
    "t = np.linspace(0, 100, 1201)\n",
    "spot = sw.spot_rate(t)\n",
    "forward = sw.forward_rate(t, 1)"
   ]
  }
 ],
 "metadata": {
  "language_info": {
   "codemirror_mode": {
    "name": "ipython",
    "version": 3
   },
   "file_extension": ".py",
   "mimetype": "text/x-python",
   "name": "python",
   "nbconvert_exporter": "python",
   "pygments_lexer": "ipython3",
   "version": "3.8.5-final"
  },
  "orig_nbformat": 2,
  "kernelspec": {
   "name": "python3",
   "display_name": "Python 3",
   "language": "python"
  }
 },
 "nbformat": 4,
 "nbformat_minor": 2
}