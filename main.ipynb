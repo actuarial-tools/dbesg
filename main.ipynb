{
 "cells": [
  {
   "cell_type": "code",
   "execution_count": 66,
   "metadata": {},
   "outputs": [],
   "source": [
    "import numpy as np\n",
    "from dbesg import SmithWilson, NelsonSiegel"
   ]
  },
  {
   "cell_type": "code",
   "execution_count": 70,
   "metadata": {},
   "outputs": [
    {
     "output_type": "stream",
     "text": [
      "\u001b[1;31mInit signature:\u001b[0m \u001b[0mSmithWilson\u001b[0m\u001b[1;33m(\u001b[0m\u001b[0malpha\u001b[0m\u001b[1;33m,\u001b[0m \u001b[0mufr\u001b[0m\u001b[1;33m)\u001b[0m\u001b[1;33m\u001b[0m\u001b[1;33m\u001b[0m\u001b[0m\n",
      "\u001b[1;31mDocstring:\u001b[0m     \n",
      "Description\n",
      "-----------\n",
      "Smith-Wilson Method를 이용하여 보간ㆍ보외 수행\n",
      "\n",
      "Example\n",
      "-------\n",
      "    >>> maturity = np.array([1, 3, 5, 10, 20, 30])\n",
      "    >>> rate = np.array([0.01301, 0.01325, 0.01415, 0.01600, 0.01625, 0.01604])\n",
      "    >>> alpha, ufr = 0.1, 0.052\n",
      "    >>> sw = SmithWilson(alpha, ufr)\n",
      "    >>> sw.set_params(maturity, rate)\n",
      "    >>> t = np.linspace(0, 100, 1201)\n",
      "    >>> spot = sw.spot_rate(t)\n",
      "    >>> df = sw.discount_factor(t)\n",
      "    >>> forward = sw.forward_rate(t, 1/12)\n",
      "\u001b[1;31mFile:\u001b[0m           c:\\users\\administrator\\dev\\dbesg\\dbesg\\yieldcurve.py\n",
      "\u001b[1;31mType:\u001b[0m           type\n",
      "\u001b[1;31mSubclasses:\u001b[0m     \n"
     ],
     "name": "stdout"
    }
   ],
   "source": [
    "?SmithWilson"
   ]
  },
  {
   "cell_type": "code",
   "execution_count": 14,
   "metadata": {
    "tags": []
   },
   "outputs": [
    {
     "output_type": "execute_result",
     "data": {
      "text/plain": [
       "Index(['2020-12-31', '2020-12-30', '2020-12-29', '2020-12-28', '2020-12-24',\n",
       "       '2020-12-23', '2020-12-22', '2020-12-21', '2020-12-18', '2020-12-17',\n",
       "       ...\n",
       "       '2016-01-14', '2016-01-13', '2016-01-12', '2016-01-11', '2016-01-08',\n",
       "       '2016-01-07', '2016-01-06', '2016-01-05', '2016-01-04', '2015-12-31'],\n",
       "      dtype='object', name='일자', length=1233)"
      ]
     },
     "metadata": {},
     "execution_count": 14
    }
   ],
   "source": [
    "# import pandas as pd\n",
    "# rf_interest_rate = pd.read_excel('data/risk_free_interest_rate_20210103132202.xlsx').set_index('일자')\n",
    "# rf_interest_rate.index.map(lambda x: x.strftime('%Y-%m-%d'))"
   ]
  },
  {
   "cell_type": "code",
   "execution_count": 68,
   "metadata": {},
   "outputs": [],
   "source": [
    "maturity = np.array([1, 3, 5, 10, 20, 30])\n",
    "rate = np.array([0.01301, 0.01325, 0.01415, 0.01600, 0.01625, 0.01604])\n",
    "alpha, ufr = 0.1, 0.052\n",
    "sw = SmithWilson(alpha, ufr)\n",
    "sw.set_params(maturity, rate)\n",
    "t = np.linspace(0, 100, 1201)\n",
    "spot = sw.spot_rate(t)\n",
    "forward = sw.forward_rate(t, 1)"
   ]
  }
 ],
 "metadata": {
  "language_info": {
   "codemirror_mode": {
    "name": "ipython",
    "version": 3
   },
   "file_extension": ".py",
   "mimetype": "text/x-python",
   "name": "python",
   "nbconvert_exporter": "python",
   "pygments_lexer": "ipython3",
   "version": "3.8.5-final"
  },
  "orig_nbformat": 2,
  "kernelspec": {
   "name": "python3",
   "display_name": "Python 3",
   "language": "python"
  }
 },
 "nbformat": 4,
 "nbformat_minor": 2
}